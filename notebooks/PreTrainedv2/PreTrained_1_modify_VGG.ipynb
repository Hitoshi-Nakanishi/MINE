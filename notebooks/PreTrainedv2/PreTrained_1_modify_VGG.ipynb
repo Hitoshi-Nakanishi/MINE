{
 "cells": [
  {
   "cell_type": "markdown",
   "metadata": {},
   "source": [
    "# Classification of 1000-class ImageNet by VGG\n",
    "http://aidiary.hatenablog.com/entry/20180212/1518404395"
   ]
  },
  {
   "cell_type": "code",
   "execution_count": 7,
   "metadata": {},
   "outputs": [
    {
     "name": "stdout",
     "output_type": "stream",
     "text": [
      "The autoreload extension is already loaded. To reload it, use:\n",
      "  %reload_ext autoreload\n"
     ]
    }
   ],
   "source": [
    "%load_ext autoreload\n",
    "%autoreload 2\n",
    "\n",
    "import os, sys, itertools\n",
    "from pathlib import Path\n",
    "sys.path.append('../../')\n",
    "\n",
    "import torch\n",
    "from torch import nn, optim\n",
    "from torch.nn import functional as F\n",
    "\n",
    "from PreTrainedFIMv2.repara_model import VGG16bn_FIM\n",
    "from PreTrainedFIMv2.util import CIFAR10Worker"
   ]
  },
  {
   "cell_type": "code",
   "execution_count": null,
   "metadata": {},
   "outputs": [
    {
     "name": "stdout",
     "output_type": "stream",
     "text": [
      "Files already downloaded and verified\n",
      "Files already downloaded and verified\n",
      "Train Epoch: 1 [0/50000 (0%)]\tLoss: 0.279932\n",
      "Train Epoch: 1 [10000/50000 (20%)]\tLoss: 0.214743\n",
      "Train Epoch: 1 [20000/50000 (40%)]\tLoss: 0.114630\n",
      "Train Epoch: 1 [30000/50000 (60%)]\tLoss: 0.029495\n"
     ]
    }
   ],
   "source": [
    "pretrained, weight_fixing = True, False\n",
    "\n",
    "name0 = '_p1' if pretrained else '_p0'\n",
    "name1 = '_w1' if weight_fixing else '_w0'\n",
    "params = {'epoch_num': 10,\n",
    "          'log_interval': 1250}\n",
    "device = torch.device(\"cuda:2\" if torch.cuda.is_available() else \"cpu\")\n",
    "\n",
    "vgg_model = VGG16bn_FIM(pretrained=pretrained, weight_fixing=weight_fixing).to(device)\n",
    "vgg_model = vgg_model.to_device_child_tensors(device)\n",
    "vgg_model.not_eval_FIM()\n",
    "\n",
    "#if torch.cuda.device_count() > 1: \n",
    "#    vgg_model = nn.DataParallel(vgg_model)\n",
    "\n",
    "criterion = nn.CrossEntropyLoss()\n",
    "optimizer = optim.Adam(vgg_model.parameters(), lr=0.0001)\n",
    "#optimizer = optim.SGD(vgg_model￥.parameters(), lr=0.01, momentum=0.8, weight_decay=5e-4)\n",
    "worker = CIFAR10Worker(device, vgg_model, criterion, params)\n",
    "worker = worker.load_data_loader()\n",
    "\n",
    "for epoch in range(1, 1 + 1):\n",
    "    filename = f'{epoch}epoch_VGG16bn' + name0 + name1 + '_diagonal.pth'\n",
    "    worker.train(epoch, optimizer)\n",
    "    worker = worker.set_save_path(filename)\n",
    "    worker = worker.save_chckpt()"
   ]
  },
  {
   "cell_type": "code",
   "execution_count": 9,
   "metadata": {},
   "outputs": [
    {
     "data": {
      "text/plain": [
       "2"
      ]
     },
     "execution_count": 9,
     "metadata": {},
     "output_type": "execute_result"
    }
   ],
   "source": [
    "1+1"
   ]
  },
  {
   "cell_type": "code",
   "execution_count": 3,
   "metadata": {},
   "outputs": [],
   "source": [
    "    worker = worker.save_chckpt()"
   ]
  },
  {
   "cell_type": "code",
   "execution_count": null,
   "metadata": {},
   "outputs": [],
   "source": []
  }
 ],
 "metadata": {
  "kernelspec": {
   "display_name": "Python 3",
   "language": "python",
   "name": "python3"
  },
  "language_info": {
   "codemirror_mode": {
    "name": "ipython",
    "version": 3
   },
   "file_extension": ".py",
   "mimetype": "text/x-python",
   "name": "python",
   "nbconvert_exporter": "python",
   "pygments_lexer": "ipython3",
   "version": "3.6.8"
  }
 },
 "nbformat": 4,
 "nbformat_minor": 4
}
