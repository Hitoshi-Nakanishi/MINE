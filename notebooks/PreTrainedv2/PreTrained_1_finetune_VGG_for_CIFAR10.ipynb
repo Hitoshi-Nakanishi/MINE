{
 "cells": [
  {
   "cell_type": "code",
   "execution_count": 1,
   "metadata": {},
   "outputs": [],
   "source": [
    "%load_ext autoreload\n",
    "%autoreload 2\n",
    "\n",
    "import os, sys, itertools\n",
    "from pathlib import Path\n",
    "sys.path.append('../../')\n",
    "\n",
    "import torch\n",
    "from torch import nn, optim\n",
    "from torch.nn import functional as F\n",
    "\n",
    "from PreTrainedFIMv2.repara_model import VGG16bn_FIM\n",
    "from PreTrainedFIMv2.util import CIFAR10Worker\n",
    "\n",
    "params = {'epoch_num': 10, 'log_interval': 1250}\n",
    "device = torch.device(\"cuda:1\" if torch.cuda.is_available() else \"cpu\")"
   ]
  },
  {
   "cell_type": "code",
   "execution_count": 2,
   "metadata": {},
   "outputs": [
    {
     "name": "stdout",
     "output_type": "stream",
     "text": [
      "Files already downloaded and verified\n",
      "Files already downloaded and verified\n",
      "Test-set loss: 0.1237\n",
      "Accuracy: 84.180%\n"
     ]
    }
   ],
   "source": [
    "vgg_model = VGG16bn_FIM().to(device)\n",
    "vgg_model = vgg_model.to_device_child_tensors(device)\n",
    "criterion = nn.CrossEntropyLoss()\n",
    "worker = CIFAR10Worker(device, vgg_model, criterion, params)\n",
    "worker.model.not_eval_FIM()\n",
    "\n",
    "worker = worker.load_data_loader()\n",
    "worker = worker.set_save_path('1epoch_VGG16bn_p1_w0_diagonal.pth')\n",
    "worker = worker.load_chckpt()\n",
    "worker.test()"
   ]
  },
  {
   "cell_type": "code",
   "execution_count": 3,
   "metadata": {},
   "outputs": [
    {
     "name": "stdout",
     "output_type": "stream",
     "text": [
      "Test-set loss: 0.1727\n",
      "Accuracy: 78.340%\n"
     ]
    }
   ],
   "source": [
    "worker.model.initialize_FIM_weight()\n",
    "worker.model.inactivate_parameters_ex_specific_layer(12)\n",
    "worker.test(default_env=False)"
   ]
  },
  {
   "cell_type": "code",
   "execution_count": 4,
   "metadata": {},
   "outputs": [
    {
     "name": "stdout",
     "output_type": "stream",
     "text": [
      "False\n",
      "False\n",
      "False\n",
      "False\n",
      "False\n",
      "False\n",
      "False\n",
      "False\n",
      "False\n",
      "False\n",
      "False\n",
      "False\n",
      "True\n",
      "Test-set loss: 0.1730\n",
      "Accuracy: 78.120%\n"
     ]
    }
   ],
   "source": [
    "worker.model.initialize_FIM_weight()\n",
    "worker.model.inactivate_parameters_ex_specific_layer(12)\n",
    "worker.test(default_env=False)"
   ]
  },
  {
   "cell_type": "markdown",
   "metadata": {},
   "source": [
    "# OK, Let's estimate Fisher Information Matrix!"
   ]
  },
  {
   "cell_type": "code",
   "execution_count": 5,
   "metadata": {},
   "outputs": [
    {
     "name": "stdout",
     "output_type": "stream",
     "text": [
      "tensor([3, 1, 0, 9], device='cuda:1') tensor([3, 1, 0, 9], device='cuda:1') tensor([[1.0064, 1.0038, 1.0045,  ..., 1.0067, 1.0067, 1.0028],\n",
      "        [1.0060, 1.0038, 1.0052,  ..., 1.0304, 1.0210, 1.0028],\n",
      "        [1.0057, 1.0038, 1.0046,  ..., 1.0077, 1.0071, 1.0031],\n",
      "        [1.0068, 1.0038, 1.0052,  ..., 1.0909, 1.0524, 1.0094]],\n",
      "       device='cuda:1', grad_fn=<SqueezeBackward0>)\n"
     ]
    }
   ],
   "source": [
    "for batch_idx, (inputs, targets) in enumerate(worker.testloader):\n",
    "    if batch_idx > 1: break\n",
    "    else: pass\n",
    "inputs, targets = inputs.to(device), targets.to(device)\n",
    "targets_hat, logvars = worker.model(inputs)\n",
    "_, predicted = targets_hat.max(1)\n",
    "logvars = torch.squeeze(torch.cat(logvars,dim=1))\n",
    "print(targets, predicted, logvars)"
   ]
  },
  {
   "cell_type": "markdown",
   "metadata": {},
   "source": [
    "# Evaluate FIM"
   ]
  },
  {
   "cell_type": "code",
   "execution_count": 6,
   "metadata": {},
   "outputs": [
    {
     "data": {
      "text/plain": [
       "tensor([[ 0.0041, -0.0297,  0.0042],\n",
       "        [ 0.0096, -0.0011, -0.0188],\n",
       "        [ 0.0121, -0.0075, -0.0074]], device='cuda:1', grad_fn=<SliceBackward>)"
      ]
     },
     "execution_count": 6,
     "metadata": {},
     "output_type": "execute_result"
    }
   ],
   "source": [
    "next(worker.model.features[53].logvar[0].parameters())[0,0,:10,:10]"
   ]
  },
  {
   "cell_type": "code",
   "execution_count": 7,
   "metadata": {},
   "outputs": [
    {
     "name": "stdout",
     "output_type": "stream",
     "text": [
      "Train Epoch: 1 [0/50000 (0%)]\tLoss: 107356.031250\n",
      "Train Epoch: 1 [5000/50000 (10%)]\tLoss: 107264.171875\n",
      "Train Epoch: 1 [10000/50000 (20%)]\tLoss: 107284.148438\n",
      "Train Epoch: 1 [15000/50000 (30%)]\tLoss: 107295.937500\n",
      "Train Epoch: 1 [20000/50000 (40%)]\tLoss: 107243.414062\n",
      "Train Epoch: 1 [25000/50000 (50%)]\tLoss: 107249.929688\n",
      "Train Epoch: 1 [30000/50000 (60%)]\tLoss: 107232.523438\n",
      "Train Epoch: 1 [35000/50000 (70%)]\tLoss: 107232.367188\n",
      "Train Epoch: 1 [40000/50000 (80%)]\tLoss: 107263.343750\n",
      "Train Epoch: 1 [45000/50000 (90%)]\tLoss: 107252.671875\n",
      "====> Epoch: 1 Average loss: 107255.8691\n",
      "tensor([[1.0064, 1.0038, 1.0045,  ..., 1.0000, 1.0000, 1.0000],\n",
      "        [1.0060, 1.0038, 1.0052,  ..., 1.0000, 1.0000, 1.0000],\n",
      "        [1.0057, 1.0038, 1.0046,  ..., 1.0000, 1.0000, 1.0000],\n",
      "        [1.0068, 1.0038, 1.0052,  ..., 1.0000, 1.0000, 1.0000]],\n",
      "       device='cuda:1', grad_fn=<SqueezeBackward0>)\n",
      "Test-set loss: 0.1725\n",
      "Accuracy: 78.210%\n"
     ]
    }
   ],
   "source": [
    "optimizer = optim.Adam(filter(lambda p: p.requires_grad, worker.model.parameters()), lr=0.001)\n",
    "epoch = 1\n",
    "worker.evaluate_FIM(epoch, optimizer, [12])\n",
    "targets_hat, logvars = worker.model(inputs)\n",
    "logvars = torch.squeeze(torch.cat(logvars,dim=1))\n",
    "print(logvars)\n",
    "worker.test(default_env=False)"
   ]
  },
  {
   "cell_type": "code",
   "execution_count": 9,
   "metadata": {},
   "outputs": [
    {
     "data": {
      "text/plain": [
       "tensor([[-0.0052, -0.0063,  0.0052],\n",
       "        [ 0.0195, -0.0020,  0.0250],\n",
       "        [ 0.0073, -0.0012,  0.0146]], device='cuda:1', grad_fn=<SliceBackward>)"
      ]
     },
     "execution_count": 9,
     "metadata": {},
     "output_type": "execute_result"
    }
   ],
   "source": [
    "next(worker.model.features[53].logvar[0].parameters())[0,0,:10,:10]"
   ]
  },
  {
   "cell_type": "code",
   "execution_count": 12,
   "metadata": {},
   "outputs": [
    {
     "name": "stdout",
     "output_type": "stream",
     "text": [
      "Test-set loss: 0.1237\n",
      "Accuracy: 84.190%\n"
     ]
    }
   ],
   "source": [
    "worker.model.inactivate_parameters_ex_specific_layer(12)\n",
    "worker.test(default_env=False)"
   ]
  },
  {
   "cell_type": "code",
   "execution_count": 13,
   "metadata": {},
   "outputs": [
    {
     "data": {
      "text/plain": [
       "tensor([1.0102, 1.0020, 1.0026, 1.0049, 1.0100, 1.0086, 1.0029, 1.0167, 1.0049,\n",
       "        1.0063, 1.0082, 1.0028, 1.0074, 1.0072, 1.0062, 1.0070, 1.0116, 1.0184,\n",
       "        1.0000, 1.0202, 1.0134, 1.0002, 1.0229, 1.0072, 1.0026, 1.0287, 1.0121,\n",
       "        1.0073, 1.0186, 1.0030, 1.0068, 1.0061, 1.0096, 1.0190, 1.0070, 1.0062,\n",
       "        1.0205, 1.0005, 1.0159, 1.0158, 1.0044, 1.0034, 1.0060, 1.0087, 1.0052,\n",
       "        1.0000, 1.0055, 1.0029, 1.0168, 1.0088, 1.0145, 1.0189, 1.0130, 1.0108,\n",
       "        1.0066, 1.0064, 1.0022, 1.0306, 1.0065, 1.0000, 1.0056, 1.0032, 1.0148,\n",
       "        1.0054, 1.0071, 1.0027, 1.0057, 1.0185, 1.0000, 1.0000, 1.0000, 1.0000,\n",
       "        1.0000, 1.0000, 1.0000, 1.0000, 1.0000, 1.0000, 1.0000, 1.0000, 1.0000,\n",
       "        1.0000, 1.0000, 1.0000, 1.0000, 1.0000, 1.0000, 1.0000, 1.0000, 1.0000,\n",
       "        1.0000, 1.0000, 1.0000, 1.0000, 1.0000, 1.0000, 1.0000, 1.0000, 1.0000,\n",
       "        1.0000, 1.0000, 1.0000, 1.0000, 1.0000, 1.0000, 1.0000, 1.0000, 1.0000,\n",
       "        1.0000, 1.0000], device='cuda:1', grad_fn=<SliceBackward>)"
      ]
     },
     "execution_count": 13,
     "metadata": {},
     "output_type": "execute_result"
    }
   ],
   "source": [
    "logvars[0, -580:-470]"
   ]
  },
  {
   "cell_type": "code",
   "execution_count": 9,
   "metadata": {},
   "outputs": [
    {
     "name": "stdout",
     "output_type": "stream",
     "text": [
      "Test-set loss: 0.1237\n",
      "Accuracy: 84.180%\n"
     ]
    }
   ],
   "source": [
    "worker.test(default_env=True)"
   ]
  },
  {
   "cell_type": "code",
   "execution_count": 10,
   "metadata": {},
   "outputs": [
    {
     "name": "stdout",
     "output_type": "stream",
     "text": [
      "False\n",
      "False\n",
      "False\n",
      "False\n",
      "False\n",
      "False\n",
      "False\n",
      "False\n",
      "False\n",
      "False\n",
      "False\n",
      "False\n",
      "False\n"
     ]
    }
   ],
   "source": [
    "from PreTrainedFIMv2.reparameterize_layer import ReparamterNorm\n",
    "for layer in worker.model.features:\n",
    "    if isinstance(layer, ReparamterNorm):\n",
    "        print(layer.reparameterization)"
   ]
  },
  {
   "cell_type": "code",
   "execution_count": 11,
   "metadata": {},
   "outputs": [],
   "source": [
    "worker.model.inactivate_parameters_ex_specific_layer(12)"
   ]
  },
  {
   "cell_type": "code",
   "execution_count": 12,
   "metadata": {},
   "outputs": [
    {
     "name": "stdout",
     "output_type": "stream",
     "text": [
      "False\n",
      "False\n",
      "False\n",
      "False\n",
      "False\n",
      "False\n",
      "False\n",
      "False\n",
      "False\n",
      "False\n",
      "False\n",
      "False\n",
      "True\n"
     ]
    }
   ],
   "source": [
    "for layer in worker.model.features:\n",
    "    if isinstance(layer, ReparamterNorm):\n",
    "        print(layer.reparameterization)"
   ]
  },
  {
   "cell_type": "code",
   "execution_count": 13,
   "metadata": {},
   "outputs": [
    {
     "name": "stdout",
     "output_type": "stream",
     "text": [
      "Test-set loss: 11.6129\n",
      "Accuracy: 10.000%\n"
     ]
    }
   ],
   "source": [
    "worker.test(default_env=False)"
   ]
  },
  {
   "cell_type": "code",
   "execution_count": 14,
   "metadata": {},
   "outputs": [
    {
     "name": "stdout",
     "output_type": "stream",
     "text": [
      "False\n",
      "False\n",
      "False\n",
      "False\n",
      "False\n",
      "False\n",
      "False\n",
      "False\n",
      "False\n",
      "False\n",
      "False\n",
      "False\n",
      "True\n"
     ]
    }
   ],
   "source": [
    "from PreTrainedFIMv2.reparameterize_layer import ReparamterNorm\n",
    "for layer in worker.model.features:\n",
    "    if isinstance(layer, ReparamterNorm):\n",
    "        print(layer.reparameterization)\n",
    "        layer.logvar.apply(init_weights)\n",
    "        x = layer"
   ]
  },
  {
   "cell_type": "code",
   "execution_count": 15,
   "metadata": {},
   "outputs": [
    {
     "data": {
      "text/plain": [
       "Parameter containing:\n",
       "tensor([[[[ 5.4633e-03, -1.3956e-02,  6.9591e-03],\n",
       "          [ 1.4707e-02,  2.3867e-03,  9.0728e-03],\n",
       "          [-3.7169e-03, -4.1768e-03,  1.4037e-02]],\n",
       "\n",
       "         [[-7.2960e-03, -1.9033e-03,  3.9158e-03],\n",
       "          [-3.8228e-03, -1.0482e-02, -9.5008e-03],\n",
       "          [-5.2222e-03, -1.2270e-02,  1.4639e-02]],\n",
       "\n",
       "         [[ 5.0269e-03, -2.6704e-03, -4.1772e-03],\n",
       "          [ 7.5359e-03,  1.0762e-02,  2.0017e-02],\n",
       "          [ 9.6328e-03,  1.5463e-02, -1.4614e-02]],\n",
       "\n",
       "         ...,\n",
       "\n",
       "         [[-3.2718e-03,  1.0801e-02, -5.7736e-03],\n",
       "          [ 1.2905e-05, -4.2908e-03, -1.2092e-03],\n",
       "          [ 3.0090e-03, -5.7543e-03, -3.8095e-03]],\n",
       "\n",
       "         [[-1.8042e-02, -2.5839e-02,  1.0507e-03],\n",
       "          [-6.3802e-03,  1.6689e-02, -1.9892e-02],\n",
       "          [ 6.1013e-05,  5.9372e-03,  2.8489e-03]],\n",
       "\n",
       "         [[-4.0836e-03,  3.1889e-03, -2.1419e-03],\n",
       "          [-7.5283e-03, -1.7349e-03, -9.5544e-03],\n",
       "          [ 1.1219e-02,  4.0675e-04, -5.0515e-03]]],\n",
       "\n",
       "\n",
       "        [[[ 4.4917e-03,  5.5304e-03, -7.6762e-03],\n",
       "          [ 1.5593e-02,  3.4228e-03, -1.2997e-02],\n",
       "          [ 1.8595e-02,  1.2132e-02,  6.2753e-03]],\n",
       "\n",
       "         [[-1.5436e-02,  1.8020e-02,  3.7100e-03],\n",
       "          [ 3.0052e-03,  6.6747e-03,  1.0973e-03],\n",
       "          [ 2.6132e-03,  1.8758e-03,  1.5310e-02]],\n",
       "\n",
       "         [[-2.7622e-03,  3.1463e-03, -8.1000e-04],\n",
       "          [-2.4204e-02,  8.0708e-03,  7.1076e-03],\n",
       "          [-1.4855e-02, -1.2040e-02, -6.3798e-03]],\n",
       "\n",
       "         ...,\n",
       "\n",
       "         [[ 1.5294e-02, -4.0185e-03,  6.9148e-03],\n",
       "          [-1.0409e-02,  7.4355e-03, -8.6161e-03],\n",
       "          [-9.0959e-03, -6.1502e-03, -2.4217e-03]],\n",
       "\n",
       "         [[-6.4973e-03, -1.4384e-02,  9.9059e-04],\n",
       "          [ 7.0128e-03, -1.1893e-02,  4.5013e-03],\n",
       "          [-5.2287e-03,  7.4302e-03, -6.0111e-03]],\n",
       "\n",
       "         [[ 6.3901e-03, -4.6236e-03,  9.1109e-03],\n",
       "          [-1.0348e-02,  1.3524e-03, -4.6310e-03],\n",
       "          [ 3.2660e-03,  1.3280e-02, -2.7423e-02]]],\n",
       "\n",
       "\n",
       "        [[[ 1.5501e-02,  3.6400e-03, -1.0357e-02],\n",
       "          [-1.1371e-03,  2.2468e-03,  1.2417e-03],\n",
       "          [ 1.6031e-03, -8.5745e-04,  1.7683e-03]],\n",
       "\n",
       "         [[ 3.7420e-03, -5.5312e-03, -2.0260e-02],\n",
       "          [ 4.4937e-03,  2.1530e-03,  1.6609e-03],\n",
       "          [-1.6450e-02, -1.0161e-03,  6.0151e-03]],\n",
       "\n",
       "         [[-3.8615e-03,  1.1981e-02, -3.4108e-03],\n",
       "          [ 3.7178e-03, -5.3908e-03, -3.0702e-03],\n",
       "          [ 2.8092e-03,  9.5159e-04,  1.2172e-02]],\n",
       "\n",
       "         ...,\n",
       "\n",
       "         [[ 8.8905e-03, -6.9525e-03, -1.7317e-02],\n",
       "          [ 1.1195e-02,  1.4527e-02, -1.1382e-02],\n",
       "          [ 5.6011e-03, -3.6805e-03,  8.4372e-03]],\n",
       "\n",
       "         [[-2.1069e-03,  7.0229e-03, -8.8109e-03],\n",
       "          [-3.9399e-03,  4.5044e-03, -7.0450e-04],\n",
       "          [-9.0245e-04,  2.2183e-02, -8.7416e-04]],\n",
       "\n",
       "         [[ 8.3797e-03,  1.4815e-02, -1.7327e-02],\n",
       "          [-2.9500e-03, -2.4204e-02, -1.0189e-02],\n",
       "          [ 4.4858e-03, -1.1814e-02,  1.4999e-03]]],\n",
       "\n",
       "\n",
       "        ...,\n",
       "\n",
       "\n",
       "        [[[ 2.3552e-03, -5.2146e-03,  2.1005e-02],\n",
       "          [ 8.9830e-04, -1.4238e-02,  1.8954e-03],\n",
       "          [-6.7814e-03, -6.8694e-03,  1.2739e-02]],\n",
       "\n",
       "         [[-7.1210e-03, -9.1053e-03,  4.8778e-03],\n",
       "          [-4.0700e-03, -5.8843e-03, -7.1870e-04],\n",
       "          [ 7.7666e-03,  8.0490e-03, -2.7138e-03]],\n",
       "\n",
       "         [[-1.1601e-02,  1.4014e-02, -6.1705e-03],\n",
       "          [ 3.7386e-03,  1.0956e-02, -1.5745e-02],\n",
       "          [-6.1680e-03, -9.4239e-04,  6.2978e-03]],\n",
       "\n",
       "         ...,\n",
       "\n",
       "         [[-1.1397e-02,  1.2154e-03,  1.2340e-02],\n",
       "          [-1.2061e-02, -9.0979e-04, -6.9549e-03],\n",
       "          [ 3.3905e-03,  3.4917e-03,  2.8427e-03]],\n",
       "\n",
       "         [[ 1.1790e-02, -1.0649e-03, -4.7423e-03],\n",
       "          [ 2.5379e-02, -4.1364e-03, -7.9599e-03],\n",
       "          [-1.8790e-02, -1.1070e-02, -5.2054e-03]],\n",
       "\n",
       "         [[ 9.5610e-03, -1.7959e-02, -2.3024e-02],\n",
       "          [-4.2316e-03,  2.1203e-03,  9.3190e-03],\n",
       "          [-1.5530e-03, -1.3381e-04,  4.3013e-04]]],\n",
       "\n",
       "\n",
       "        [[[ 4.7714e-03, -4.2203e-03, -1.0609e-02],\n",
       "          [ 2.1217e-03, -1.7549e-02, -7.7079e-03],\n",
       "          [ 9.1225e-03, -1.0094e-02,  2.6600e-02]],\n",
       "\n",
       "         [[-5.5943e-03,  3.2715e-04,  8.8355e-03],\n",
       "          [ 7.7128e-03,  7.3487e-03,  8.5065e-04],\n",
       "          [-2.6882e-03,  1.0796e-02,  1.4311e-02]],\n",
       "\n",
       "         [[-1.1643e-02,  9.0799e-04, -2.1971e-03],\n",
       "          [-6.1935e-03, -1.3388e-02,  2.7984e-03],\n",
       "          [ 5.5988e-03,  1.3614e-02,  6.1636e-03]],\n",
       "\n",
       "         ...,\n",
       "\n",
       "         [[ 7.5554e-03,  1.4647e-02,  4.9272e-04],\n",
       "          [ 1.7057e-02,  5.7231e-03,  3.7470e-03],\n",
       "          [ 1.5887e-02,  8.0985e-04,  4.7751e-03]],\n",
       "\n",
       "         [[ 8.1342e-03, -2.0536e-02,  2.9857e-03],\n",
       "          [-6.3271e-03,  1.3215e-02,  4.0153e-04],\n",
       "          [-1.4537e-02,  2.2008e-03, -3.7884e-03]],\n",
       "\n",
       "         [[-1.1423e-02, -1.4481e-02,  1.5050e-02],\n",
       "          [-1.3684e-02,  5.5619e-03, -6.7666e-03],\n",
       "          [ 8.4138e-03, -7.0476e-03,  9.2322e-03]]],\n",
       "\n",
       "\n",
       "        [[[ 1.3087e-02, -6.7367e-03, -1.1452e-03],\n",
       "          [ 1.3589e-02, -7.1993e-04, -4.1391e-03],\n",
       "          [ 4.8786e-03, -4.2104e-03,  7.1573e-03]],\n",
       "\n",
       "         [[ 2.2969e-03,  1.2768e-02, -1.7089e-03],\n",
       "          [ 1.1564e-03,  6.2698e-04, -1.4268e-03],\n",
       "          [ 1.7246e-04, -1.2810e-02, -1.5621e-02]],\n",
       "\n",
       "         [[-9.9125e-03, -1.3821e-02,  4.0025e-03],\n",
       "          [-6.6772e-03, -4.6645e-03, -1.2912e-03],\n",
       "          [ 1.8663e-02, -3.5976e-03,  7.5961e-03]],\n",
       "\n",
       "         ...,\n",
       "\n",
       "         [[-5.9335e-03, -1.2317e-02, -5.2030e-04],\n",
       "          [ 2.1394e-02, -1.0989e-03, -1.2073e-02],\n",
       "          [ 6.1412e-03, -9.2871e-04,  2.7697e-04]],\n",
       "\n",
       "         [[ 1.0697e-02, -1.1399e-02, -9.0460e-03],\n",
       "          [ 1.0991e-02,  9.4520e-04, -5.8444e-03],\n",
       "          [ 1.7550e-02,  1.3264e-03,  1.3990e-02]],\n",
       "\n",
       "         [[ 7.3514e-03,  2.0967e-03,  1.9447e-02],\n",
       "          [-5.6575e-03, -1.3364e-02,  6.9611e-03],\n",
       "          [ 1.0732e-04, -5.0662e-03,  6.7503e-03]]]], device='cuda:1',\n",
       "       requires_grad=True)"
      ]
     },
     "execution_count": 15,
     "metadata": {},
     "output_type": "execute_result"
    }
   ],
   "source": [
    "next(x.logvar[0].parameters())"
   ]
  },
  {
   "cell_type": "code",
   "execution_count": null,
   "metadata": {},
   "outputs": [],
   "source": []
  },
  {
   "cell_type": "code",
   "execution_count": null,
   "metadata": {},
   "outputs": [],
   "source": []
  },
  {
   "cell_type": "code",
   "execution_count": null,
   "metadata": {},
   "outputs": [],
   "source": []
  },
  {
   "cell_type": "code",
   "execution_count": null,
   "metadata": {},
   "outputs": [],
   "source": []
  },
  {
   "cell_type": "code",
   "execution_count": null,
   "metadata": {},
   "outputs": [],
   "source": []
  },
  {
   "cell_type": "code",
   "execution_count": null,
   "metadata": {},
   "outputs": [],
   "source": []
  },
  {
   "cell_type": "code",
   "execution_count": null,
   "metadata": {},
   "outputs": [],
   "source": []
  },
  {
   "cell_type": "code",
   "execution_count": null,
   "metadata": {},
   "outputs": [],
   "source": []
  },
  {
   "cell_type": "code",
   "execution_count": null,
   "metadata": {},
   "outputs": [],
   "source": []
  },
  {
   "cell_type": "code",
   "execution_count": 6,
   "metadata": {},
   "outputs": [
    {
     "name": "stdout",
     "output_type": "stream",
     "text": [
      "False\n",
      "False\n",
      "False\n",
      "False\n",
      "False\n",
      "False\n",
      "False\n",
      "False\n",
      "False\n",
      "False\n",
      "False\n",
      "False\n",
      "True\n"
     ]
    }
   ],
   "source": [
    "worker.model.eval_FIM()\n",
    "for layerId in [12]:\n",
    "    worker.model.inactivate_parameters_ex_specific_layer(layerId)\n",
    "counter = 0\n",
    "for layer in worker.model.features:\n",
    "    if isinstance(layer, ReparamterNorm):\n",
    "        print(layer.reparameterization)\n",
    "        counter+=1"
   ]
  },
  {
   "cell_type": "code",
   "execution_count": 20,
   "metadata": {},
   "outputs": [
    {
     "data": {
      "text/plain": [
       "False"
      ]
     },
     "execution_count": 20,
     "metadata": {},
     "output_type": "execute_result"
    }
   ],
   "source": [
    "worker.model.features[49].reparameterization"
   ]
  },
  {
   "cell_type": "code",
   "execution_count": 17,
   "metadata": {},
   "outputs": [
    {
     "data": {
      "text/plain": [
       "13"
      ]
     },
     "execution_count": 17,
     "metadata": {},
     "output_type": "execute_result"
    }
   ],
   "source": [
    "counter"
   ]
  },
  {
   "cell_type": "code",
   "execution_count": 5,
   "metadata": {},
   "outputs": [
    {
     "name": "stdout",
     "output_type": "stream",
     "text": [
      "tensor([3, 1, 0, 9], device='cuda:1')\n",
      "tensor([6, 6, 6, 9], device='cuda:1')\n",
      "tensor([[1.0128, 1.0022, 1.0209,  ..., 1.0008, 1.0010, 1.0018],\n",
      "        [1.0227, 1.0055, 1.0268,  ..., 1.0028, 1.0005, 1.0042],\n",
      "        [1.0083, 1.0018, 1.0135,  ..., 1.0003, 1.0004, 1.0000],\n",
      "        [1.0245, 1.0062, 1.0296,  ..., 1.0009, 1.0026, 1.0095]],\n",
      "       device='cuda:1', grad_fn=<SqueezeBackward0>)\n"
     ]
    }
   ],
   "source": [
    "targets_hat, logvars = worker.model(inputs)\n",
    "logvars = torch.squeeze(torch.cat(logvars,dim=1))\n",
    "print(logvars)\n",
    "_, predicted = targets_hat.max(1)\n",
    "print(targets, predicted)"
   ]
  },
  {
   "cell_type": "code",
   "execution_count": 6,
   "metadata": {},
   "outputs": [
    {
     "name": "stdout",
     "output_type": "stream",
     "text": [
      "Test-set loss: 6.1692\n",
      "Accuracy: 10.000%\n"
     ]
    }
   ],
   "source": []
  },
  {
   "cell_type": "code",
   "execution_count": 36,
   "metadata": {},
   "outputs": [
    {
     "name": "stdout",
     "output_type": "stream",
     "text": [
      "tensor([3, 1, 0, 9], device='cuda:1')\n",
      "tensor([6, 6, 6, 6], device='cuda:1')\n",
      "tensor([[1.0124, 1.0024, 1.0216,  ..., 1.0000, 1.0029, 1.0036],\n",
      "        [1.0224, 1.0063, 1.0259,  ..., 1.0021, 1.0012, 1.0026],\n",
      "        [1.0088, 1.0018, 1.0138,  ..., 1.0004, 1.0027, 1.0020],\n",
      "        [1.0260, 1.0061, 1.0306,  ..., 1.0005, 1.0026, 1.0004]],\n",
      "       device='cuda:1', grad_fn=<SqueezeBackward0>)\n"
     ]
    }
   ],
   "source": [
    "targets_hat, logvars = worker.model(inputs)\n",
    "_, predicted = targets_hat.max(1)\n",
    "logvars = torch.squeeze(torch.cat(logvars,dim=1))\n",
    "print(targets)\n",
    "print(predicted)\n",
    "print(logvars)"
   ]
  },
  {
   "cell_type": "code",
   "execution_count": null,
   "metadata": {},
   "outputs": [],
   "source": []
  },
  {
   "cell_type": "code",
   "execution_count": 30,
   "metadata": {},
   "outputs": [
    {
     "name": "stdout",
     "output_type": "stream",
     "text": [
      "tensor([3, 1, 0, 9], device='cuda:1')\n",
      "tensor([5, 5, 5, 5], device='cuda:1')\n"
     ]
    }
   ],
   "source": [
    "worker.model.eval_FIM()\n",
    "for batch_idx, (inputs, targets) in enumerate(worker.testloader):\n",
    "    if batch_idx > 1:\n",
    "        break\n",
    "    else:\n",
    "        pass\n",
    "\n",
    "inputs, targets = inputs.to(device), targets.to(device)\n",
    "targets_hat, logvars = worker.model(inputs)\n",
    "_, predicted = targets_hat.max(1)\n",
    "logvars = torch.squeeze(torch.cat(logvars,dim=1))\n",
    "print(targets)\n",
    "print(predicted)\n",
    "\n",
    "def loss_for_FIM(y_hat, logvars, y):\n",
    "    kl_div = torch.sum(worker.model.layer_dims*(torch.exp(logvars) - logvars - 1))\n",
    "    #w_squared = self.model.w_squared\n",
    "    cross_entropy = F.cross_entropy(y_hat, y)\n",
    "    return 10*cross_entropy +  kl_div # + w_squared\n",
    "    #return kl_div + w_squared\n",
    "loss = loss_for_FIM(targets_hat, logvars, targets)\n",
    "loss.requires_grad = True"
   ]
  },
  {
   "cell_type": "code",
   "execution_count": 31,
   "metadata": {},
   "outputs": [],
   "source": [
    "loss.backward()"
   ]
  },
  {
   "cell_type": "code",
   "execution_count": 32,
   "metadata": {},
   "outputs": [],
   "source": [
    "optimizer.step()"
   ]
  },
  {
   "cell_type": "code",
   "execution_count": 33,
   "metadata": {},
   "outputs": [
    {
     "data": {
      "text/plain": [
       "tensor([[1.0081, 1.0185, 1.0333, 1.0183, 1.0248, 1.0197, 1.0199, 1.0214, 1.0262,\n",
       "         1.0272, 1.0129, 1.0195, 1.0938],\n",
       "        [1.0101, 1.0209, 1.0334, 1.0180, 1.0251, 1.0197, 1.0206, 1.0228, 1.0283,\n",
       "         1.0284, 1.0130, 1.0213, 1.0876],\n",
       "        [1.0073, 1.0185, 1.0332, 1.0177, 1.0241, 1.0193, 1.0191, 1.0212, 1.0285,\n",
       "         1.0270, 1.0126, 1.0228, 1.0774],\n",
       "        [1.0109, 1.0213, 1.0342, 1.0182, 1.0244, 1.0199, 1.0202, 1.0219, 1.0258,\n",
       "         1.0275, 1.0125, 1.0214, 1.0987]], device='cuda:1')"
      ]
     },
     "execution_count": 33,
     "metadata": {},
     "output_type": "execute_result"
    }
   ],
   "source": [
    "logvars"
   ]
  },
  {
   "cell_type": "code",
   "execution_count": 9,
   "metadata": {},
   "outputs": [],
   "source": [
    "worker.model = worker.model.to(device)"
   ]
  },
  {
   "cell_type": "code",
   "execution_count": null,
   "metadata": {},
   "outputs": [],
   "source": []
  }
 ],
 "metadata": {
  "kernelspec": {
   "display_name": "Python 3",
   "language": "python",
   "name": "python3"
  },
  "language_info": {
   "codemirror_mode": {
    "name": "ipython",
    "version": 3
   },
   "file_extension": ".py",
   "mimetype": "text/x-python",
   "name": "python",
   "nbconvert_exporter": "python",
   "pygments_lexer": "ipython3",
   "version": "3.6.8"
  }
 },
 "nbformat": 4,
 "nbformat_minor": 4
}
