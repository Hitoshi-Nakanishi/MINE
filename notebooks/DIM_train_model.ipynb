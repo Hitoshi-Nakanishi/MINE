{
 "cells": [
  {
   "cell_type": "code",
   "execution_count": 1,
   "metadata": {},
   "outputs": [],
   "source": [
    "import torch\n",
    "from torchvision.datasets.cifar import CIFAR10\n",
    "from torch.utils.data import DataLoader\n",
    "from torchvision.transforms import ToTensor\n",
    "import torch.nn as nn\n",
    "import torch.nn.functional as F\n",
    "from torch.optim import Adam\n",
    "from tqdm import tqdm_notebook as tqdm\n",
    "#from tqdm import tqdm\n",
    "from pathlib import Path\n",
    "import statistics as stats\n",
    "import argparse\n",
    "\n",
    "from DIM.models import Encoder, GlobalDiscriminator, LocalDiscriminator, PriorDiscriminator, DeepInfoMaxLoss"
   ]
  },
  {
   "cell_type": "code",
   "execution_count": null,
   "metadata": {},
   "outputs": [],
   "source": [
    "#!mkdir data data/tv models models/run1\n",
    "cur_dir = '/notebooks/DockerShared/MINE'\n",
    "data_dir = '/notebooks/DockerShared/MINE/data/tv'\n",
    "root = Path(cur_dir)\n",
    "model_path = root / Path('models/run1')\n",
    "device = torch.device('cuda' if torch.cuda.is_available() else 'cpu')\n",
    "parser = argparse.ArgumentParser(description='DeepInfomax pytorch')\n",
    "parser.add_argument('--batch_size', default=64, type=int, help='batch_size')\n",
    "args = parser.parse_args()\n",
    "batch_size = args.batch_size\n",
    "\n",
    "# image size 3, 32, 32; batch size must be an even number; shuffle must be True\n",
    "cifar_10_train_dt = CIFAR10(data_dir,  download=True, transform=ToTensor())\n",
    "cifar_10_train_l = DataLoader(cifar_10_train_dt, batch_size=batch_size,\n",
    "                              shuffle=True, drop_last=True,\n",
    "                              pin_memory=torch.cuda.is_available())\n",
    "encoder = Encoder().to(device)\n",
    "loss_fn = DeepInfoMaxLoss().to(device)\n",
    "optim = Adam(encoder.parameters(), lr=1e-4)\n",
    "loss_optim = Adam(loss_fn.parameters(), lr=1e-4)\n",
    "epoch_restart = 0"
   ]
  },
  {
   "cell_type": "code",
   "execution_count": null,
   "metadata": {},
   "outputs": [],
   "source": [
    "if epoch_restart > 0 and modelpath is not None:\n",
    "    enc_file = model_path / Path('encoder' + str(epoch_restart) + '.wgt')\n",
    "    loss_file = model_path / Path('loss' + str(epoch_restart) + '.wgt')\n",
    "    encoder.load_state_dict(torch.load(str(enc_file)))\n",
    "    loss_fn.load_state_dict(torch.load(str(loss_file)))\n",
    "\n",
    "for epoch in range(epoch_restart + 1, 1000):\n",
    "    if epoch%100 == 0: print(epoch)\n",
    "    batch = tqdm(cifar_10_train_l, total=len(cifar_10_train_dt) // batch_size)\n",
    "    train_loss = []\n",
    "    for x, target in batch:\n",
    "        x = x.to(device)\n",
    "        optim.zero_grad()\n",
    "        loss_optim.zero_grad()\n",
    "        y, M = encoder(x)\n",
    "        # rotate images to create pairs for comparison\n",
    "        M_prime = torch.cat((M[1:], M[0].unsqueeze(0)), dim=0)\n",
    "        loss = loss_fn(y, M, M_prime)\n",
    "        train_loss.append(loss.item())\n",
    "        batch.set_description(str(epoch) + ' Loss: ' + str(stats.mean(train_loss[-20:])))\n",
    "        loss.backward()\n",
    "        optim.step()\n",
    "        loss_optim.step()\n",
    "\n",
    "    if epoch % 10 == 0:\n",
    "        enc_file = model_path / Path('encoder' + str(epoch) + '.wgt')\n",
    "        loss_file = model_path / Path('loss' + str(epoch) + '.wgt')\n",
    "        enc_file.parent.mkdir(parents=True, exist_ok=True)\n",
    "        torch.save(encoder.state_dict(), str(enc_file))\n",
    "        torch.save(loss_fn.state_dict(), str(loss_file))"
   ]
  },
  {
   "cell_type": "code",
   "execution_count": null,
   "metadata": {},
   "outputs": [],
   "source": []
  }
 ],
 "metadata": {
  "kernelspec": {
   "display_name": "Python 3",
   "language": "python",
   "name": "python3"
  },
  "language_info": {
   "codemirror_mode": {
    "name": "ipython",
    "version": 3
   },
   "file_extension": ".py",
   "mimetype": "text/x-python",
   "name": "python",
   "nbconvert_exporter": "python",
   "pygments_lexer": "ipython3",
   "version": "3.6.8"
  }
 },
 "nbformat": 4,
 "nbformat_minor": 4
}
