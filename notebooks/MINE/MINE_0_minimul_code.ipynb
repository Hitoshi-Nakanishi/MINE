{
 "cells": [
  {
   "cell_type": "code",
   "execution_count": 1,
   "metadata": {},
   "outputs": [],
   "source": [
    "import torch\n",
    "import torch.nn as nn\n",
    "import torch.nn.functional as F\n",
    "from tqdm import tqdm\n",
    "import numpy as np\n",
    "import matplotlib.pyplot as plt\n",
    "import seaborn as sns\n",
    "sns.set_style(\"white\")"
   ]
  },
  {
   "cell_type": "code",
   "execution_count": 6,
   "metadata": {},
   "outputs": [
    {
     "name": "stdout",
     "output_type": "stream",
     "text": [
      "0.6592399337416374\n"
     ]
    }
   ],
   "source": [
    "var = 0.2\n",
    "data_size = 1000000\n",
    "def generate_x(data_size): \n",
    "    return np.sign(np.random.normal(0.,1.,[data_size,1]))\n",
    "def generate_y(x, var, data_size): \n",
    "    return x + np.random.normal(0.,np.sqrt(var),[data_size,1])\n",
    "\n",
    "x = generate_x(data_size)\n",
    "y = generate_y(x, var, data_size)\n",
    "\n",
    "p_y_x = np.exp(-(y-x)**2/(2*var))\n",
    "p_y_x_minus = np.exp(-(y+1)**2/(2*var))\n",
    "p_y_x_plus = np.exp(-(y-1)**2/(2*var))\n",
    "mi = np.average( np.log(p_y_x / (0.5*p_y_x_minus + 0.5*p_y_x_plus)))\n",
    "print(mi)"
   ]
  },
  {
   "cell_type": "code",
   "execution_count": 29,
   "metadata": {},
   "outputs": [],
   "source": [
    "n_epoch = 500\n",
    "data_size = 20000\n",
    "\n",
    "class Net(nn.Module):\n",
    "    def __init__(self, hidden_size=128):\n",
    "        super(Net, self).__init__()\n",
    "        self.fc1 = nn.Linear(1, hidden_size)\n",
    "        self.fc2 = nn.Linear(1, hidden_size)\n",
    "        self.fc3 = nn.Linear(hidden_size, 1)\n",
    "\n",
    "    def forward(self, x, y):\n",
    "        h1 = F.relu(self.fc1(x)+self.fc2(y))\n",
    "        h2 = self.fc3(h1)\n",
    "        return h2    \n",
    "\n",
    "model = Net()\n",
    "optimizer = torch.optim.Adam(model.parameters(), lr=0.01)"
   ]
  },
  {
   "cell_type": "code",
   "execution_count": 30,
   "metadata": {},
   "outputs": [
    {
     "name": "stderr",
     "output_type": "stream",
     "text": [
      "100%|██████████| 500/500 [00:19<00:00, 25.79it/s]\n"
     ]
    }
   ],
   "source": [
    "plot_loss = []\n",
    "for epoch in tqdm(range(n_epoch)):\n",
    "    x_sample = generate_x(data_size)\n",
    "    y_sample = generate_y(x_sample, var, data_size)\n",
    "    y_shuffle = np.random.permutation(y_sample)\n",
    "    x_sample = torch.FloatTensor(x_sample)\n",
    "    y_sample = torch.FloatTensor(y_sample)\n",
    "    y_shuffle = torch.FloatTensor(y_shuffle)\n",
    "    pred_xy = model(x_sample, y_sample)\n",
    "    pred_x_y = model(x_sample, y_shuffle)\n",
    "\n",
    "    ret = torch.mean(pred_xy) - torch.log(torch.mean(torch.exp(pred_x_y)))\n",
    "    loss = - ret\n",
    "    plot_loss.append(loss.data.numpy())\n",
    "    model.zero_grad()\n",
    "    loss.backward()\n",
    "    optimizer.step()"
   ]
  },
  {
   "cell_type": "code",
   "execution_count": 36,
   "metadata": {},
   "outputs": [
    {
     "name": "stdout",
     "output_type": "stream",
     "text": [
      "tensor(7.1670, grad_fn=<MeanBackward0>)\n",
      "tensor(6.5017, grad_fn=<LogBackward>)\n"
     ]
    }
   ],
   "source": [
    "print(torch.mean(pred_xy))\n",
    "print(torch.log(torch.mean(torch.exp(pred_x_y))))"
   ]
  },
  {
   "cell_type": "code",
   "execution_count": 37,
   "metadata": {},
   "outputs": [
    {
     "name": "stdout",
     "output_type": "stream",
     "text": [
      "0.66538763\n"
     ]
    },
    {
     "data": {
      "image/png": "[encoded data removed]",
      "text/plain": [
       "<Figure size 432x288 with 1 Axes>"
      ]
     },
     "metadata": {
      "needs_background": "light"
     },
     "output_type": "display_data"
    }
   ],
   "source": [
    "x_data = np.arange(len(plot_loss))\n",
    "y_data = np.array(plot_loss).reshape(-1,)\n",
    "plt.plot(x_data, - y_data)\n",
    "print(-y_data[-1])"
   ]
  },
  {
   "cell_type": "code",
   "execution_count": null,
   "metadata": {},
   "outputs": [],
   "source": []
  }
 ],
 "metadata": {
  "kernelspec": {
   "display_name": "Python 3",
   "language": "python",
   "name": "python3"
  },
  "language_info": {
   "codemirror_mode": {
    "name": "ipython",
    "version": 3
   },
   "file_extension": ".py",
   "mimetype": "text/x-python",
   "name": "python",
   "nbconvert_exporter": "python",
   "pygments_lexer": "ipython3",
   "version": "3.6.8"
  }
 },
 "nbformat": 4,
 "nbformat_minor": 4
}
