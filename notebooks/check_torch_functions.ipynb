{
 "cells": [
  {
   "cell_type": "code",
   "execution_count": 1,
   "metadata": {},
   "outputs": [],
   "source": [
    "import numpy as np\n",
    "import matplotlib.pyplot as plt\n",
    "import seaborn as sns\n",
    "sns.set_style(\"white\")\n",
    "import torch\n",
    "import torch.nn as nn\n",
    "import torch.nn.functional as F\n",
    "import torch.optim as optim\n",
    "import torch.autograd as autograd"
   ]
  },
  {
   "cell_type": "code",
   "execution_count": 42,
   "metadata": {},
   "outputs": [],
   "source": [
    "#joint = torch.autograd.Variable(torch.FloatTensor(joint)).cuda()\n",
    "x = torch.FloatTensor(range(-5,5))\n",
    "y = F.elu(x)"
   ]
  },
  {
   "cell_type": "code",
   "execution_count": 44,
   "metadata": {},
   "outputs": [
    {
     "data": {
      "text/plain": [
       "[<matplotlib.lines.Line2D at 0x7f5533dd2ba8>]"
      ]
     },
     "execution_count": 44,
     "metadata": {},
     "output_type": "execute_result"
    },
    {
     "data": {
      "image/png": "[encoded data removed]",
      "text/plain": [
       "<Figure size 432x288 with 1 Axes>"
      ]
     },
     "metadata": {
      "needs_background": "light"
     },
     "output_type": "display_data"
    }
   ],
   "source": [
    "plt.plot(x.tolist(),y.tolist())"
   ]
  },
  {
   "cell_type": "code",
   "execution_count": 46,
   "metadata": {},
   "outputs": [
    {
     "data": {
      "text/plain": [
       "\u001b[0;31mDocstring:\u001b[0m\n",
       "narrow(input, dimension, start, length) -> Tensor\n",
       "\n",
       "Returns a new tensor that is a narrowed version of :attr:`input` tensor. The\n",
       "dimension :attr:`dim` is input from :attr:`start` to :attr:`start + length`. The\n",
       "returned tensor and :attr:`input` tensor share the same underlying storage.\n",
       "\n",
       "Args:\n",
       "    input (Tensor): the tensor to narrow\n",
       "    dimension (int): the dimension along which to narrow\n",
       "    start (int): the starting dimension\n",
       "    length (int): the distance to the ending dimension\n",
       "\n",
       "Example::\n",
       "\n",
       "    >>> x = torch.tensor([[1, 2, 3], [4, 5, 6], [7, 8, 9]])\n",
       "    >>> torch.narrow(x, 0, 0, 2)\n",
       "    tensor([[ 1,  2,  3],\n",
       "            [ 4,  5,  6]])\n",
       "    >>> torch.narrow(x, 1, 1, 2)\n",
       "    tensor([[ 2,  3],\n",
       "            [ 5,  6],\n",
       "            [ 8,  9]])\n",
       "\u001b[0;31mType:\u001b[0m      builtin_function_or_method\n"
      ]
     },
     "metadata": {},
     "output_type": "display_data"
    }
   ],
   "source": [
    "torch.narrow??"
   ]
  },
  {
   "cell_type": "code",
   "execution_count": null,
   "metadata": {},
   "outputs": [],
   "source": []
  }
 ],
 "metadata": {
  "kernelspec": {
   "display_name": "Python 3",
   "language": "python",
   "name": "python3"
  },
  "language_info": {
   "codemirror_mode": {
    "name": "ipython",
    "version": 3
   },
   "file_extension": ".py",
   "mimetype": "text/x-python",
   "name": "python",
   "nbconvert_exporter": "python",
   "pygments_lexer": "ipython3",
   "version": "3.6.8"
  }
 },
 "nbformat": 4,
 "nbformat_minor": 2
}
