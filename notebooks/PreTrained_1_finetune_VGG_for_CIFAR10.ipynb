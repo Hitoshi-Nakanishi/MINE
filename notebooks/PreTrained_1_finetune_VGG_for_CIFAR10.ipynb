{
 "cells": [
  {
   "cell_type": "code",
   "execution_count": 1,
   "metadata": {},
   "outputs": [],
   "source": [
    "%load_ext autoreload\n",
    "%autoreload 2\n",
    "\n",
    "import os, sys, itertools\n",
    "from pathlib import Path\n",
    "sys.path.append('..')\n",
    "\n",
    "import torch\n",
    "from torch import nn, optim\n",
    "from torch.nn import functional as F\n",
    "\n",
    "#from PreTrainedFIM.model import VGG16_FIM, VGG16bn_FIM\n",
    "from PreTrainedFIM.repara_model import VGG16bn_FIM\n",
    "from PreTrainedFIM.util import CIFAR10Worker"
   ]
  },
  {
   "cell_type": "code",
   "execution_count": 2,
   "metadata": {},
   "outputs": [
    {
     "name": "stdout",
     "output_type": "stream",
     "text": [
      "Files already downloaded and verified\n",
      "Files already downloaded and verified\n",
      "Test-set loss: 0.5762\n",
      "Accuracy: 8.120%\n"
     ]
    }
   ],
   "source": [
    "params = {'epoch_num': 10,\n",
    "          'log_interval': 1250}\n",
    "device = torch.device(\"cuda:1\" if torch.cuda.is_available() else \"cpu\")\n",
    "\n",
    "vgg_model = VGG16bn_FIM().to(device)\n",
    "vgg_model = vgg_model.to_device_child_tensors(device)\n",
    "vgg_model.not_eval_FIM()\n",
    "criterion = nn.CrossEntropyLoss()\n",
    "worker = CIFAR10Worker(device, vgg_model, criterion, params)\n",
    "worker = worker.load_data_loader()\n",
    "worker.test()"
   ]
  },
  {
   "cell_type": "raw",
   "metadata": {},
   "source": [
    "filename = '1epoch_VGG16bn_p1_w0_jnb.pth'\n",
    "worker = worker.set_save_path(filename).load_chckpt()\n",
    "worker.test()"
   ]
  },
  {
   "cell_type": "code",
   "execution_count": 4,
   "metadata": {},
   "outputs": [
    {
     "name": "stdout",
     "output_type": "stream",
     "text": [
      "Test-set loss: 0.1066\n",
      "Accuracy: 86.360%\n"
     ]
    }
   ],
   "source": [
    "filename = '2epoch_VGG16bn_p1_w0_jnb.pth'\n",
    "worker = worker.set_save_path(filename).load_chckpt()\n",
    "worker.test()"
   ]
  },
  {
   "cell_type": "code",
   "execution_count": 5,
   "metadata": {},
   "outputs": [
    {
     "name": "stdout",
     "output_type": "stream",
     "text": [
      "Test-set loss: 0.0967\n",
      "Accuracy: 87.470%\n"
     ]
    }
   ],
   "source": [
    "filename = '3epoch_VGG16bn_p1_w0_jnb.pth'\n",
    "worker = worker.set_save_path(filename).load_chckpt()\n",
    "worker.test()"
   ]
  },
  {
   "cell_type": "code",
   "execution_count": 6,
   "metadata": {},
   "outputs": [
    {
     "name": "stdout",
     "output_type": "stream",
     "text": [
      "tensor([3, 1, 0, 9], device='cuda:1')\n",
      "tensor([3, 1, 0, 9], device='cuda:1')\n"
     ]
    }
   ],
   "source": [
    "for batch_idx, (inputs, targets) in enumerate(worker.testloader):\n",
    "    if batch_idx > 1:\n",
    "        break\n",
    "    else:\n",
    "        pass\n",
    "inputs, targets = inputs.to(device), targets.to(device)\n",
    "targets_hat = vgg_model(inputs)\n",
    "_, predicted = targets_hat.max(1)\n",
    "print(targets)\n",
    "print(predicted)"
   ]
  },
  {
   "cell_type": "markdown",
   "metadata": {},
   "source": [
    "---"
   ]
  }
 ],
 "metadata": {
  "kernelspec": {
   "display_name": "Python 3",
   "language": "python",
   "name": "python3"
  },
  "language_info": {
   "codemirror_mode": {
    "name": "ipython",
    "version": 3
   },
   "file_extension": ".py",
   "mimetype": "text/x-python",
   "name": "python",
   "nbconvert_exporter": "python",
   "pygments_lexer": "ipython3",
   "version": "3.6.8"
  }
 },
 "nbformat": 4,
 "nbformat_minor": 4
}
