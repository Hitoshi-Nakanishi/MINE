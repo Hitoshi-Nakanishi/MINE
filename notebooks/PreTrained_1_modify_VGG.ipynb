{
 "cells": [
  {
   "cell_type": "markdown",
   "metadata": {},
   "source": [
    "# Classification of 1000-class ImageNet by VGG\n",
    "http://aidiary.hatenablog.com/entry/20180212/1518404395"
   ]
  },
  {
   "cell_type": "code",
   "execution_count": 1,
   "metadata": {},
   "outputs": [],
   "source": [
    "%load_ext autoreload\n",
    "%autoreload 2\n",
    "\n",
    "import os, sys, itertools\n",
    "from pathlib import Path\n",
    "sys.path.append('..')\n",
    "\n",
    "import torch\n",
    "from torch import nn, optim\n",
    "from torch.nn import functional as F\n",
    "\n",
    "#from PreTrainedFIM.model import VGG16_FIM, VGG16bn_FIM\n",
    "from PreTrainedFIM.repara_model import VGG16bn_FIM\n",
    "from PreTrainedFIM.util import CIFAR10Worker"
   ]
  },
  {
   "cell_type": "code",
   "execution_count": 2,
   "metadata": {},
   "outputs": [
    {
     "name": "stdout",
     "output_type": "stream",
     "text": [
      "Files already downloaded and verified\n",
      "Files already downloaded and verified\n",
      "Test-set loss: 0.5755\n",
      "Accuracy: 11.120%\n",
      "Train Epoch: 1 [0/50000 (0%)]\tLoss: 0.294944\n",
      "Train Epoch: 1 [10000/50000 (20%)]\tLoss: 0.183764\n",
      "Train Epoch: 1 [20000/50000 (40%)]\tLoss: 0.022886\n",
      "Train Epoch: 1 [30000/50000 (60%)]\tLoss: 0.143737\n",
      "Train Epoch: 1 [40000/50000 (80%)]\tLoss: 0.182944\n",
      "Accuracy: 71.132%\n",
      "====> Epoch: 1 Average loss: 0.1128\n"
     ]
    }
   ],
   "source": [
    "pretrained, weight_fixing = True, False\n",
    "\n",
    "name0 = '_p1' if pretrained else '_p0'\n",
    "name1 = '_w1' if weight_fixing else '_w0'\n",
    "\n",
    "params = {'epoch_num': 10,\n",
    "          'log_interval': 1250}\n",
    "device = torch.device(\"cuda:2\" if torch.cuda.is_available() else \"cpu\")\n",
    "\n",
    "vgg_model = VGG16bn_FIM(pretrained=pretrained, weight_fixing=weight_fixing).to(device)\n",
    "vgg_model = vgg_model.to_device_child_tensors(device)\n",
    "vgg_model.not_eval_FIM()\n",
    "\n",
    "#if torch.cuda.device_count() > 1: \n",
    "#    vgg_model = nn.DataParallel(vgg_model)\n",
    "\n",
    "criterion = nn.CrossEntropyLoss()\n",
    "optimizer = optim.Adam(vgg_model.parameters(), lr=0.0001)\n",
    "#optimizer = optim.SGD(vgg_model.parameters(), lr=0.01, momentum=0.8, weight_decay=5e-4)\n",
    "worker = CIFAR10Worker(device, vgg_model, criterion, params)\n",
    "worker = worker.load_data_loader()\n",
    "worker.test()\n",
    "\n",
    "for epoch in range(1, 1 + 1):\n",
    "    filename = f'{epoch}epoch_VGG16bn' + name0 + name1 + '_jnb.pth'\n",
    "    worker.train(epoch, optimizer)\n",
    "    worker = worker.set_save_path(filename)\n",
    "    worker = worker.save_chckpt()"
   ]
  },
  {
   "cell_type": "code",
   "execution_count": null,
   "metadata": {},
   "outputs": [],
   "source": []
  }
 ],
 "metadata": {
  "kernelspec": {
   "display_name": "Python 3",
   "language": "python",
   "name": "python3"
  },
  "language_info": {
   "codemirror_mode": {
    "name": "ipython",
    "version": 3
   },
   "file_extension": ".py",
   "mimetype": "text/x-python",
   "name": "python",
   "nbconvert_exporter": "python",
   "pygments_lexer": "ipython3",
   "version": "3.6.8"
  }
 },
 "nbformat": 4,
 "nbformat_minor": 4
}
